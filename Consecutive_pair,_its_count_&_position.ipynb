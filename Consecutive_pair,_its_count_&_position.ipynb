{
  "nbformat": 4,
  "nbformat_minor": 0,
  "metadata": {
    "colab": {
      "provenance": [],
      "authorship_tag": "ABX9TyPOcEQfiuHWe2txL8z/Sxm1",
      "include_colab_link": true
    },
    "kernelspec": {
      "name": "python3",
      "display_name": "Python 3"
    },
    "language_info": {
      "name": "python"
    }
  },
  "cells": [
    {
      "cell_type": "markdown",
      "metadata": {
        "id": "view-in-github",
        "colab_type": "text"
      },
      "source": [
        "<a href=\"https://colab.research.google.com/github/Bala-Subramanian-G/python_problems/blob/main/Consecutive_pair%2C_its_count_%26_position.ipynb\" target=\"_parent\"><img src=\"https://colab.research.google.com/assets/colab-badge.svg\" alt=\"Open In Colab\"/></a>"
      ]
    },
    {
      "cell_type": "markdown",
      "source": [
        "## Find the consecutive pair of characters in the given string and return them along with their count and position"
      ],
      "metadata": {
        "id": "MRlb2SbXx2XW"
      }
    },
    {
      "cell_type": "markdown",
      "source": [
        "**Example:**\n",
        "\n",
        "**Input** :\n",
        "\n",
        "\"Suuccess doesn't comee verrry easyyy\"\n",
        "\n",
        "**Output:**\n",
        "\n",
        "uu occured 2 times at 2nd, and 3rd position\n",
        "\n",
        "cc occured 2 times at 4th, and 5th position\n",
        "\n",
        "*(continues)*"
      ],
      "metadata": {
        "id": "cphWtKtNyEk7"
      }
    },
    {
      "cell_type": "code",
      "source": [
        "# I wrote the below funtion to achieve priting the output exactly as mentioned above\n",
        "\n",
        "def custom_print(char,count,position):\n",
        "  frst_half = f\"{char} occured {count} times at \"\n",
        "  sec_half = ''\n",
        "\n",
        "  number_suffix = {'1':'st', '2':'nd', '3':'rd'}\n",
        "\n",
        "  for i in position:\n",
        "    suffix = number_suffix.get(str(i)[-1],'th')\n",
        "    sec_half += f\"{i}{suffix}, \"\n",
        "\n",
        "  # last character position in each occurence\n",
        "  suffix = number_suffix.get(str(i+1)[-1],'th')\n",
        "  sec_half += f\"and {i+1}{suffix} position\"\n",
        "\n",
        "  print(frst_half + sec_half)"
      ],
      "metadata": {
        "id": "WXMIWIfwrncl"
      },
      "execution_count": 8,
      "outputs": []
    },
    {
      "cell_type": "code",
      "source": [
        "sentence = \"Suuccess doesn't comee verrry easyyy\"  # input\n",
        "\n",
        "# The below 4 variables are main role-players\n",
        "prev_char = '' # Previous character in a string\n",
        "position = []  # Positions of consecutive characters\n",
        "count = 1      # No of occurence of consecutive characters\n",
        "index = 0      # Index number of each character\n",
        "\n",
        "\n",
        "for current_char in sentence:\n",
        "  if current_char==prev_char: # If consecutive pair found.\n",
        "    count += 1                # Counting the total chars in consecutive pairs.\n",
        "    position.append(index)    # Storing the positions of chars in cons pair.\n",
        "\n",
        "  # If cons pair not found, but we had the cons pair before to the current char\n",
        "  elif count > 1:\n",
        "    # Passing the details of recent cons pair to the function\n",
        "    custom_print(prev_char*count, count, position)\n",
        "\n",
        "    # Then refreshing the values of role-playing variables\n",
        "    prev_char = ''\n",
        "    position = []\n",
        "    count = 1\n",
        "\n",
        "  prev_char = current_char # At the end, assiging the current_char to prev_char\n",
        "  index += 1               # Incrementing the index\n",
        "\n",
        "\n",
        "'''Consecutive pairs that occurs at the extreme end won't be returned by\n",
        "funtion. Because there will be no iterations after that pair,\n",
        "so that 'elif' part won't be executed.\n",
        "\n",
        "So I added that elif condition separately to make sure no pairs are left out'''\n",
        "\n",
        "if count != 1:\n",
        "  custom_print(prev_char*count, count, position)"
      ],
      "metadata": {
        "colab": {
          "base_uri": "https://localhost:8080/"
        },
        "id": "Qs8HUsvcvhX4",
        "outputId": "928250a2-36f5-4f48-81d2-f46898ae6ce4"
      },
      "execution_count": 9,
      "outputs": [
        {
          "output_type": "stream",
          "name": "stdout",
          "text": [
            "uu occured 2 times at 2nd, and 3rd position\n",
            "cc occured 2 times at 4th, and 5th position\n",
            "ss occured 2 times at 7th, and 8th position\n",
            "ee occured 2 times at 21st, and 22nd position\n",
            "rrr occured 3 times at 26th, 27th, and 28th position\n",
            "yyy occured 3 times at 34th, 35th, and 36th position\n"
          ]
        }
      ]
    }
  ]
}