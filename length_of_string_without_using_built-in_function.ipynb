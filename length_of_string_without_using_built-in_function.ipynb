{
  "nbformat": 4,
  "nbformat_minor": 0,
  "metadata": {
    "colab": {
      "provenance": [],
      "authorship_tag": "ABX9TyOSfygH8r8zUR3xqMZPlRdg",
      "include_colab_link": true
    },
    "kernelspec": {
      "name": "python3",
      "display_name": "Python 3"
    },
    "language_info": {
      "name": "python"
    }
  },
  "cells": [
    {
      "cell_type": "markdown",
      "metadata": {
        "id": "view-in-github",
        "colab_type": "text"
      },
      "source": [
        "<a href=\"https://colab.research.google.com/github/Bala-Subramanian-G/python_problems/blob/main/length_of_string_without_using_built-in_function.ipynb\" target=\"_parent\"><img src=\"https://colab.research.google.com/assets/colab-badge.svg\" alt=\"Open In Colab\"/></a>"
      ]
    },
    {
      "cell_type": "markdown",
      "source": [
        "##Find the length of given string without using any buit-in function."
      ],
      "metadata": {
        "id": "GGlqr1KHKBLi"
      }
    },
    {
      "cell_type": "code",
      "source": [
        "input_str = input(\"Enter the string: \")\n",
        "a = input_str\n",
        "count = 0\n",
        "\n",
        "while a != '':\n",
        "  a = a[:-1]\n",
        "  count += 1\n",
        "\n",
        "print(f\"Length of the input string '{input_str}' is {count}\")"
      ],
      "metadata": {
        "colab": {
          "base_uri": "https://localhost:8080/"
        },
        "id": "JmA3rqk3JHeY",
        "outputId": "44827b95-8452-47b0-e610-67f5fb3a1011"
      },
      "execution_count": 13,
      "outputs": [
        {
          "output_type": "stream",
          "name": "stdout",
          "text": [
            "Enter the string: none\n",
            "Length of the input string 'none' is 4\n"
          ]
        }
      ]
    },
    {
      "cell_type": "markdown",
      "source": [
        "Note:\n",
        "\n",
        "This was the mistake I made before. I used 'replace' function instead of slicing. What happened was, it gave correct result only when there were no duplicate character in the input string."
      ],
      "metadata": {
        "id": "-qvdJEWcOAOq"
      }
    },
    {
      "cell_type": "markdown",
      "source": [
        "Example:\n",
        "```\n",
        "a = \"none\"\n",
        "print(a.replace('n',''))\n",
        "```\n",
        "\n",
        "Output:\n",
        "```\n",
        "'oe'\n",
        "```\n",
        "Because it replaces all occurence of 'n'. So when we find the length of string based on this logic, it'll give wrong result."
      ],
      "metadata": {
        "id": "q7UUThFsOEqS"
      }
    }
  ]
}