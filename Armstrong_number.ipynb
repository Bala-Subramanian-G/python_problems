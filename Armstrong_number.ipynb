{
  "nbformat": 4,
  "nbformat_minor": 0,
  "metadata": {
    "colab": {
      "provenance": [],
      "authorship_tag": "ABX9TyPsKWAL/AMtXEtrYoGfKJGp",
      "include_colab_link": true
    },
    "kernelspec": {
      "name": "python3",
      "display_name": "Python 3"
    },
    "language_info": {
      "name": "python"
    }
  },
  "cells": [
    {
      "cell_type": "markdown",
      "metadata": {
        "id": "view-in-github",
        "colab_type": "text"
      },
      "source": [
        "<a href=\"https://colab.research.google.com/github/Bala-Subramanian-G/python_problems/blob/main/Armstrong_number.ipynb\" target=\"_parent\"><img src=\"https://colab.research.google.com/assets/colab-badge.svg\" alt=\"Open In Colab\"/></a>"
      ]
    },
    {
      "cell_type": "markdown",
      "source": [
        "--------\n",
        "\n",
        "**Example 1:**\n",
        "\n",
        "Input: 153\n",
        "\n",
        "Output: Armstrong number\n",
        "\n",
        "Explanation: (1* 1* 1) + (5* 5* 5) + (3* 3* 3) = 153\n",
        "\n",
        "--------\n",
        "\n",
        "**Example 2:**\n",
        "\n",
        "Input: 120\n",
        "\n",
        "Output: Not an Armstrong number\n",
        "\n",
        "Explanation: (1* 1* 1) + (2* 2* 2) + (0* 0* 0) = 9"
      ],
      "metadata": {
        "id": "xsPHh04lOCAt"
      }
    },
    {
      "cell_type": "code",
      "execution_count": 1,
      "metadata": {
        "id": "IAAxB1uyPut3"
      },
      "outputs": [],
      "source": [
        "def armstrong(a):\n",
        "  b = str(a)\n",
        "  # Converting the number into string so that we can iterate through each character of number\n",
        "  count=len(b) # no of digits\n",
        "  x = 0\n",
        "\n",
        "  for i in b:\n",
        "    i = int(i)\n",
        "    # String in mathematical expression will produce errors\n",
        "    x = x+(i**count)\n",
        "\n",
        "  if(a == x):\n",
        "    print(\"Armstrong number\")\n",
        "  else:\n",
        "    print(\"Not an Armstrong number\")"
      ]
    },
    {
      "cell_type": "code",
      "source": [
        "armstrong(153)"
      ],
      "metadata": {
        "colab": {
          "base_uri": "https://localhost:8080/"
        },
        "id": "Iii5iAiAUqsR",
        "outputId": "73bd2476-b7a8-423f-bf5d-9012f497ccbf"
      },
      "execution_count": 2,
      "outputs": [
        {
          "output_type": "stream",
          "name": "stdout",
          "text": [
            "Armstrong number\n"
          ]
        }
      ]
    },
    {
      "cell_type": "code",
      "source": [
        "armstrong(120)"
      ],
      "metadata": {
        "colab": {
          "base_uri": "https://localhost:8080/"
        },
        "id": "52dXrjTqU-rb",
        "outputId": "0c8d08d5-2538-41cc-8951-4ee4bee1057e"
      },
      "execution_count": 3,
      "outputs": [
        {
          "output_type": "stream",
          "name": "stdout",
          "text": [
            "Not an Armstrong number\n"
          ]
        }
      ]
    },
    {
      "cell_type": "code",
      "source": [
        "armstrong(1634)"
      ],
      "metadata": {
        "colab": {
          "base_uri": "https://localhost:8080/"
        },
        "id": "MgzT2gnEVN-W",
        "outputId": "5ae182af-2926-4801-8192-a035067195c7"
      },
      "execution_count": 4,
      "outputs": [
        {
          "output_type": "stream",
          "name": "stdout",
          "text": [
            "Armstrong number\n"
          ]
        }
      ]
    }
  ]
}