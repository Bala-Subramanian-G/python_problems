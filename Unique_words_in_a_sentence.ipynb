{
  "nbformat": 4,
  "nbformat_minor": 0,
  "metadata": {
    "colab": {
      "provenance": [],
      "authorship_tag": "ABX9TyPZUio1IW+HfcvtIr5zkDAh",
      "include_colab_link": true
    },
    "kernelspec": {
      "name": "python3",
      "display_name": "Python 3"
    },
    "language_info": {
      "name": "python"
    }
  },
  "cells": [
    {
      "cell_type": "markdown",
      "metadata": {
        "id": "view-in-github",
        "colab_type": "text"
      },
      "source": [
        "<a href=\"https://colab.research.google.com/github/Bala-Subramanian-G/python_problems/blob/main/Unique_words_in_a_sentence.ipynb\" target=\"_parent\"><img src=\"https://colab.research.google.com/assets/colab-badge.svg\" alt=\"Open In Colab\"/></a>"
      ]
    },
    {
      "cell_type": "markdown",
      "metadata": {
        "id": "aba63bd1"
      },
      "source": [
        "Question: Take a string as input(may contain repetitive words), return the unique words present in the string."
      ]
    },
    {
      "cell_type": "code",
      "execution_count": 2,
      "metadata": {
        "colab": {
          "base_uri": "https://localhost:8080/"
        },
        "id": "M_L5hUeBtYzG",
        "outputId": "7ccb1417-1930-4d4e-c2a4-3c8015b4c5a0"
      },
      "outputs": [
        {
          "output_type": "stream",
          "name": "stdout",
          "text": [
            "Enter string: i am bala am i\n",
            "i am bala\n"
          ]
        }
      ],
      "source": [
        "a = input(\"Enter string: \")\n",
        "b = a.split()\n",
        "c = []\n",
        "for i in b:\n",
        "    if(i not in c):\n",
        "        c.append(i)\n",
        "print(' '.join(c))"
      ]
    },
    {
      "cell_type": "code",
      "source": [
        "# Another method\n",
        "\n",
        "a = input(\"Enter string: \")\n",
        "b = a.split()\n",
        "# converting it into set so it will remove duplicates but order of elements may be changed\n",
        "c = set(b)\n",
        "print(' '.join(c))"
      ],
      "metadata": {
        "colab": {
          "base_uri": "https://localhost:8080/"
        },
        "id": "9wkgMmbymzUm",
        "outputId": "574f972f-2941-469b-b2d5-0d1acaf094b3"
      },
      "execution_count": 11,
      "outputs": [
        {
          "output_type": "stream",
          "name": "stdout",
          "text": [
            "Enter string: this is called as this level of this\n",
            "called this as of level is\n"
          ]
        }
      ]
    },
    {
      "cell_type": "markdown",
      "source": [
        "Reason of alteration occured in order of words is because we applied set function."
      ],
      "metadata": {
        "id": "KhEt83ZIrkvp"
      }
    }
  ]
}