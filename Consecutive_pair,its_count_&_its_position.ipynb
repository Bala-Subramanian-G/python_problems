{
  "nbformat": 4,
  "nbformat_minor": 0,
  "metadata": {
    "colab": {
      "provenance": [],
      "authorship_tag": "ABX9TyN6O9/Fv8tE/j5XRIIXmU0i",
      "include_colab_link": true
    },
    "kernelspec": {
      "name": "python3",
      "display_name": "Python 3"
    },
    "language_info": {
      "name": "python"
    }
  },
  "cells": [
    {
      "cell_type": "markdown",
      "metadata": {
        "id": "view-in-github",
        "colab_type": "text"
      },
      "source": [
        "<a href=\"https://colab.research.google.com/github/Bala-Subramanian-G/python_problems/blob/main/Consecutive_pair%2Cits_count_%26_its_position.ipynb\" target=\"_parent\"><img src=\"https://colab.research.google.com/assets/colab-badge.svg\" alt=\"Open In Colab\"/></a>"
      ]
    },
    {
      "cell_type": "markdown",
      "source": [
        "## Find the consecutive pair of characters in the given string and return them along with their count and position"
      ],
      "metadata": {
        "id": "MRlb2SbXx2XW"
      }
    },
    {
      "cell_type": "markdown",
      "source": [
        "**Example:**\n",
        "\n",
        "**Input** :\n",
        "\n",
        "\"Suuccess doesn't comee verrry easyyy\"\n",
        "\n",
        "**Output:**\n",
        "\n",
        "uu occured 2 times at 2nd, and 3rd position\n",
        "\n",
        "cc occured 2 times at 4th, and 5th position\n",
        "\n",
        "*(continues)*"
      ],
      "metadata": {
        "id": "cphWtKtNyEk7"
      }
    },
    {
      "cell_type": "code",
      "source": [
        "# to achieve priting the output exactly as mentioned above, I wrote the below funtion\n",
        "\n",
        "def custom_print(char,count,position):\n",
        "  frst_half = f\"{char} occured {count} times at \"\n",
        "  sec_half = ''\n",
        "\n",
        "  number_suffix = {'1':'st', '2':'nd', '3':'rd'}\n",
        "\n",
        "  for i in position:\n",
        "    suffix = number_suffix.get(str(i)[-1],'th')\n",
        "    sec_half += f\"{i}{suffix}, \"\n",
        "\n",
        "  # last character position in each occurence\n",
        "  suffix = number_suffix.get(str(i+1)[-1],'th')\n",
        "  sec_half += f\"and {i+1}{suffix} position\"\n",
        "\n",
        "  print(frst_half + sec_half)\n",
        "\n",
        "\n",
        "# Main function\n",
        "sentence = \"Suuccess doesn't comee verrry easyyy\"  # input\n",
        "\n",
        "# The below 4 parameters are main role-players\n",
        "prev_char = '' # previous character in a string\n",
        "position = []  # positions of consecutive characters\n",
        "count = 1      # no of occurence of consecutive characters\n",
        "index = 0      # index number of each character\n",
        "\n",
        "\n",
        "for current_char in sentence:\n",
        "  if current_char==prev_char: # if consecutive pair found\n",
        "    count += 1                # counting the total chars in consecutive pairs\n",
        "    position.append(index)    # storing the positions of chars in cons pair\n",
        "\n",
        "  # if cons pair not found, but we had the cons pair before to the current char\n",
        "  elif count != 1:\n",
        "    # passing the details of recent cons pair to the function\n",
        "    custom_print(prev_char*count, count, position)\n",
        "\n",
        "    # then refreshing the values of role-playing parameters\n",
        "    prev_char = ''\n",
        "    position = []\n",
        "    count = 1\n",
        "\n",
        "  prev_char = current_char # in the end, assiging the current_char to prev_char\n",
        "  index += 1               # incrementing the index\n",
        "\n",
        "\n",
        "# if consecutive pairs occurs at the extreme end as well,\n",
        "# that pair won't be returned since loop stops with that pair\n",
        "# so that 'elif' part won't be executed. So I added the below line separately.\n",
        "if count != 1:\n",
        "  custom_print(prev_char*count, count, position)"
      ],
      "metadata": {
        "colab": {
          "base_uri": "https://localhost:8080/"
        },
        "id": "WXMIWIfwrncl",
        "outputId": "07c59a49-6bf1-4a18-b99a-b05811c834ad"
      },
      "execution_count": 2,
      "outputs": [
        {
          "output_type": "stream",
          "name": "stdout",
          "text": [
            "uu occured 2 times at 2nd, and 3rd position\n",
            "cc occured 2 times at 4th, and 5th position\n",
            "ss occured 2 times at 7th, and 8th position\n",
            "ee occured 2 times at 21st, and 22nd position\n",
            "rrr occured 3 times at 26th, 27th, and 28th position\n",
            "yyy occured 3 times at 34th, 35th, and 36th position\n"
          ]
        }
      ]
    }
  ]
}