{
  "nbformat": 4,
  "nbformat_minor": 0,
  "metadata": {
    "colab": {
      "provenance": [],
      "authorship_tag": "ABX9TyOSXpfzcPzb7+psjSt7CEI5",
      "include_colab_link": true
    },
    "kernelspec": {
      "name": "python3",
      "display_name": "Python 3"
    },
    "language_info": {
      "name": "python"
    }
  },
  "cells": [
    {
      "cell_type": "markdown",
      "metadata": {
        "id": "view-in-github",
        "colab_type": "text"
      },
      "source": [
        "<a href=\"https://colab.research.google.com/github/Bala-Subramanian-G/python_problems/blob/main/k_th_largest_number.ipynb\" target=\"_parent\"><img src=\"https://colab.research.google.com/assets/colab-badge.svg\" alt=\"Open In Colab\"/></a>"
      ]
    },
    {
      "cell_type": "markdown",
      "source": [
        "##Find k-th largest number in a list.\n",
        "\n",
        "------\n",
        "**Example -1**:\n",
        "\n",
        "input:\n",
        "\n",
        "L = [12,35,23,43,15]\n",
        "\n",
        "k = 2\n",
        "\n",
        "output: 35\n",
        "\n",
        "Explanation: 35 is the 2nd biggest number\n",
        "\n",
        "------\n",
        "**Example -2**:\n",
        "\n",
        "input:\n",
        "\n",
        "L = [12,35,23,43]\n",
        "\n",
        "k = 3\n",
        "\n",
        "output: 23\n",
        "\n",
        "Explanation: 23 is the 3rd biggest number\n",
        "\n",
        "------\n",
        "**Example -3**:\n",
        "\n",
        "input:\n",
        "\n",
        "L = [23,43,15]\n",
        "\n",
        "k = 1\n",
        "\n",
        "output: 43\n",
        "\n",
        "Explanation: 43 is the 1st biggest number\n",
        "\n",
        "------\n"
      ],
      "metadata": {
        "id": "XH8SsYO4l7lQ"
      }
    },
    {
      "cell_type": "code",
      "source": [
        "a = eval(input('Enter the list: '))\n",
        "k = int(input('Enter the k value: '))\n",
        "a = list(set(a))  # to remove the repetition of numbers\n",
        "\n",
        "if len(a) < k:\n",
        "  print(f'There is only {len(a)} unique values are there in the given list. But you are asking to find kth (k={k}) number')\n",
        "else:\n",
        "  a = sorted(a,reverse = True)\n",
        "  print('\\nOutput:',a[k-1])"
      ],
      "metadata": {
        "colab": {
          "base_uri": "https://localhost:8080/"
        },
        "id": "lE4_AdqemG8V",
        "outputId": "6af08f7f-65bc-48b4-cd0f-b8bc833f2dbc"
      },
      "execution_count": 16,
      "outputs": [
        {
          "output_type": "stream",
          "name": "stdout",
          "text": [
            "Enter the list: [12,35,23,43]\n",
            "Enter the k value: 3\n",
            "\n",
            "Output: 23\n"
          ]
        }
      ]
    }
  ]
}